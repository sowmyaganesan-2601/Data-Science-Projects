{
 "cells": [
  {
   "cell_type": "markdown",
   "id": "5699d21b",
   "metadata": {},
   "source": [
    "#### Libraries"
   ]
  },
  {
   "cell_type": "code",
   "execution_count": 99,
   "id": "0bde1214",
   "metadata": {},
   "outputs": [],
   "source": [
    "import pandas as pd\n",
    "import nltk\n",
    "import string\n",
    "from nltk.corpus import stopwords\n",
    "from nltk.tokenize import word_tokenize\n",
    "from nltk.stem import WordNetLemmatizer\n",
    "from sklearn.feature_extraction.text import TfidfVectorizer \n",
    "from sklearn.model_selection import train_test_split\n",
    "from sklearn.linear_model import LogisticRegression\n",
    "from sklearn.metrics import confusion_matrix,accuracy_score,classification_report,ConfusionMatrixDisplay\n",
    "import pickle \n",
    "import streamlit as st"
   ]
  },
  {
   "cell_type": "code",
   "execution_count": 53,
   "id": "7c5942aa",
   "metadata": {},
   "outputs": [
    {
     "data": {
      "text/plain": [
       "<bound method NDFrame.head of          ID         Name    Review  \\\n",
       "0      2401  Borderlands  Positive   \n",
       "1      2401  Borderlands  Positive   \n",
       "2      2401  Borderlands  Positive   \n",
       "3      2401  Borderlands  Positive   \n",
       "4      2401  Borderlands  Positive   \n",
       "...     ...          ...       ...   \n",
       "74676  9200       Nvidia  Positive   \n",
       "74677  9200       Nvidia  Positive   \n",
       "74678  9200       Nvidia  Positive   \n",
       "74679  9200       Nvidia  Positive   \n",
       "74680  9200       Nvidia  Positive   \n",
       "\n",
       "                                                    Text  \n",
       "0      I am coming to the borders and I will kill you...  \n",
       "1      im getting on borderlands and i will kill you ...  \n",
       "2      im coming on borderlands and i will murder you...  \n",
       "3      im getting on borderlands 2 and i will murder ...  \n",
       "4      im getting into borderlands and i can murder y...  \n",
       "...                                                  ...  \n",
       "74676  Just realized that the Windows partition of my...  \n",
       "74677  Just realized that my Mac window partition is ...  \n",
       "74678  Just realized the windows partition of my Mac ...  \n",
       "74679  Just realized between the windows partition of...  \n",
       "74680  Just like the windows partition of my Mac is l...  \n",
       "\n",
       "[74681 rows x 4 columns]>"
      ]
     },
     "execution_count": 53,
     "metadata": {},
     "output_type": "execute_result"
    }
   ],
   "source": [
    "df=pd.read_csv('twitter_training.csv',encoding='latin-1')\n",
    "df.head\n"
   ]
  },
  {
   "cell_type": "code",
   "execution_count": null,
   "id": "29f18477",
   "metadata": {},
   "outputs": [
    {
     "name": "stderr",
     "output_type": "stream",
     "text": [
      "[nltk_data] Downloading package stopwords to\n",
      "[nltk_data]     C:\\Users\\pc\\AppData\\Roaming\\nltk_data...\n",
      "[nltk_data]   Package stopwords is already up-to-date!\n",
      "[nltk_data] Downloading package punkt_tab to\n",
      "[nltk_data]     C:\\Users\\pc\\AppData\\Roaming\\nltk_data...\n",
      "[nltk_data]   Package punkt_tab is already up-to-date!\n",
      "[nltk_data] Downloading package wordnet to\n",
      "[nltk_data]     C:\\Users\\pc\\AppData\\Roaming\\nltk_data...\n"
     ]
    },
    {
     "data": {
      "text/plain": [
       "True"
      ]
     },
     "execution_count": 63,
     "metadata": {},
     "output_type": "execute_result"
    }
   ],
   "source": [
    "nltk.download('stopwords')\n",
    "nltk.download('punkt_tab') # 'punkt' — the tokenizer model NLTK uses.\n",
    "stop_words=set(stopwords.words('english'))\n",
    "nltk.download('wordnet') #lemmatizer tool used this dataset to function\n"
   ]
  },
  {
   "cell_type": "markdown",
   "id": "d4386e08",
   "metadata": {},
   "source": [
    "#### Text Preprocessing"
   ]
  },
  {
   "cell_type": "code",
   "execution_count": 65,
   "id": "b4f87c76",
   "metadata": {},
   "outputs": [],
   "source": [
    "lemmatizer=WordNetLemmatizer()\n",
    "def preprocess_text(text):\n",
    "   if not isinstance(text,str):\n",
    "      return \"\"\n",
    "   \n",
    "    # 1. Lowercasing\n",
    "   text= text.lower() \n",
    "     #2. Tokenization: Split text into words\n",
    "   words=nltk.word_tokenize(text)\n",
    "\n",
    "   # 3. Removing Punctuation\n",
    "   words=[word for word in words if word not in string.punctuation]\n",
    "    \n",
    "    #4 Stop words removal \n",
    "   words=[word for word in words if word not in stop_words]\n",
    "   \n",
    "   #5  Lemmatization (or Stemming): Convert words to their base form\n",
    "   words=[lemmatizer.lemmatize(word) for word in words]\n",
    "\n",
    "   #6   Join words back into a single string\n",
    "   return \" \".join(words)\n",
    "   "
   ]
  },
  {
   "cell_type": "code",
   "execution_count": 66,
   "id": "67c2f8ae",
   "metadata": {},
   "outputs": [
    {
     "data": {
      "text/plain": [
       "0                coming border kill\n",
       "1        im getting borderland kill\n",
       "2       im coming borderland murder\n",
       "3    im getting borderland 2 murder\n",
       "4      im getting borderland murder\n",
       "Name: cleaned_text, dtype: object"
      ]
     },
     "execution_count": 66,
     "metadata": {},
     "output_type": "execute_result"
    }
   ],
   "source": [
    "df['cleaned_text']=df['Text'].apply(preprocess_text)\n",
    "df['cleaned_text'].head()"
   ]
  },
  {
   "cell_type": "markdown",
   "id": "24a3f877",
   "metadata": {},
   "source": [
    "#### Feature Engineering"
   ]
  },
  {
   "cell_type": "code",
   "execution_count": 88,
   "id": "f10687ff",
   "metadata": {},
   "outputs": [],
   "source": [
    "tfidf=TfidfVectorizer(max_features=50000)\n",
    "X=tfidf.fit_transform(df['cleaned_text'])\n",
    "\n",
    "#Labels\n",
    "y=df['Review'].values\n",
    "\n",
    "# Splitting the datset into training and testing sets \n",
    "X_train,X_test,y_train,y_test=train_test_split(X,y,test_size=0.2,random_state=42)\n"
   ]
  },
  {
   "cell_type": "markdown",
   "id": "8ce66cc4",
   "metadata": {},
   "source": [
    "#### Model Training"
   ]
  },
  {
   "cell_type": "code",
   "execution_count": 90,
   "id": "76da4e20",
   "metadata": {},
   "outputs": [
    {
     "name": "stderr",
     "output_type": "stream",
     "text": [
      "c:\\Users\\pc\\anaconda3\\Lib\\site-packages\\sklearn\\linear_model\\_logistic.py:460: ConvergenceWarning: lbfgs failed to converge (status=1):\n",
      "STOP: TOTAL NO. of ITERATIONS REACHED LIMIT.\n",
      "\n",
      "Increase the number of iterations (max_iter) or scale the data as shown in:\n",
      "    https://scikit-learn.org/stable/modules/preprocessing.html\n",
      "Please also refer to the documentation for alternative solver options:\n",
      "    https://scikit-learn.org/stable/modules/linear_model.html#logistic-regression\n",
      "  n_iter_i = _check_optimize_result(\n"
     ]
    },
    {
     "name": "stdout",
     "output_type": "stream",
     "text": [
      "Accuracy Score 0.7705027783356765\n",
      "Classification Report               precision    recall  f1-score   support\n",
      "\n",
      "  Irrelevant       0.81      0.65      0.72      2661\n",
      "    Negative       0.79      0.83      0.81      4471\n",
      "     Neutral       0.72      0.76      0.74      3551\n",
      "    Positive       0.78      0.79      0.78      4254\n",
      "\n",
      "    accuracy                           0.77     14937\n",
      "   macro avg       0.77      0.76      0.76     14937\n",
      "weighted avg       0.77      0.77      0.77     14937\n",
      "\n"
     ]
    }
   ],
   "source": [
    "model=LogisticRegression()\n",
    "model.fit(X_train,y_train)\n",
    "\n",
    "#Evaluate \n",
    "y_pred=model.predict(X_test)\n",
    "print(\"Accuracy Score\",accuracy_score(y_test,y_pred))\n",
    "print(\"Classification Report\",classification_report(y_test,y_pred))"
   ]
  },
  {
   "cell_type": "code",
   "execution_count": 92,
   "id": "1708913d",
   "metadata": {},
   "outputs": [
    {
     "data": {
      "text/plain": [
       "<sklearn.metrics._plot.confusion_matrix.ConfusionMatrixDisplay at 0x200229292e0>"
      ]
     },
     "execution_count": 92,
     "metadata": {},
     "output_type": "execute_result"
    },
    {
     "data": {
      "image/png": "[encoded data removed]",
      "text/plain": [
       "<Figure size 640x480 with 2 Axes>"
      ]
     },
     "metadata": {},
     "output_type": "display_data"
    }
   ],
   "source": [
    "#Confusion Matrix\n",
    "cm=confusion_matrix(y_test,y_pred)\n",
    "\n",
    "#Display it\n",
    "disp=ConfusionMatrixDisplay(confusion_matrix=cm,display_labels=model.classes_)\n",
    "disp.plot(cmap='Blues')"
   ]
  },
  {
   "cell_type": "markdown",
   "id": "6b552c82",
   "metadata": {},
   "source": [
    "#### Save the model and Vectorizer"
   ]
  },
  {
   "cell_type": "code",
   "execution_count": 95,
   "id": "0c2ce487",
   "metadata": {},
   "outputs": [],
   "source": [
    "# save model\n",
    "pickle.dump(model,open('sentiment_model.pkl','wb'))\n",
    "\n",
    "# save vectorizer\n",
    "pickle.dump(tfidf,open('tfidf_vectorizer.pkl','wb'))"
   ]
  }
 ],
 "metadata": {
  "kernelspec": {
   "display_name": "base",
   "language": "python",
   "name": "python3"
  },
  "language_info": {
   "codemirror_mode": {
    "name": "ipython",
    "version": 3
   },
   "file_extension": ".py",
   "mimetype": "text/x-python",
   "name": "python",
   "nbconvert_exporter": "python",
   "pygments_lexer": "ipython3",
   "version": "3.12.7"
  }
 },
 "nbformat": 4,
 "nbformat_minor": 5
}
